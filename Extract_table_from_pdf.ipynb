{
 "cells": [
  {
   "cell_type": "code",
   "execution_count": 237,
   "metadata": {},
   "outputs": [],
   "source": [
    "import camelot\n",
    "import pandas as pd\n"
   ]
  },
  {
   "cell_type": "code",
   "execution_count": 238,
   "metadata": {},
   "outputs": [
    {
     "data": {
      "text/plain": [
       "<TableList n=6>"
      ]
     },
     "execution_count": 238,
     "metadata": {},
     "output_type": "execute_result"
    }
   ],
   "source": [
    "tables = camelot.read_pdf('pdf_data.pdf', flavor = 'stream',pages='2,3,5,7,8')\n",
    "tables"
   ]
  },
  {
   "cell_type": "code",
   "execution_count": 239,
   "metadata": {},
   "outputs": [],
   "source": [
    "#Storing raw tables\n",
    "for table in range(tables.n):\n",
    "    tables[table].to_csv(\"raw_table_\" + str(table) + \".csv\")"
   ]
  },
  {
   "cell_type": "markdown",
   "metadata": {},
   "source": [
    "## cleansing tables using pandas"
   ]
  },
  {
   "cell_type": "code",
   "execution_count": 240,
   "metadata": {},
   "outputs": [],
   "source": [
    "#first table\n",
    "df0 = tables[0].df\n",
    "\n",
    "#set index 2 as columns and drop first 3 rows\n",
    "df0.columns = df0.iloc[2]\n",
    "df0.drop(df1.index[:3],inplace=True)\n",
    "df0.to_csv(\"table_0.csv\")"
   ]
  },
  {
   "cell_type": "code",
   "execution_count": 241,
   "metadata": {},
   "outputs": [],
   "source": [
    "#second Table is splitted into two tables so appending them \n",
    "df1 = tables[1].df\n",
    "df2 = tables[2].df\n",
    "\n",
    "#Removing index from table 2 and appending both tables\n",
    "df2 = df2.drop(df2.index[0])\n",
    "df2 = df1.append(df2)\n",
    "df2.columns= df2.iloc[0]\n",
    "df2.drop(df2.index[0])\n",
    "df2.to_csv('table_1.csv')"
   ]
  },
  {
   "cell_type": "code",
   "execution_count": 242,
   "metadata": {},
   "outputs": [],
   "source": [
    "#remaining tables doesn't require any cleansing\n",
    "tables[3].df.to_csv('table_2.csv')\n",
    "tables[4].df.to_csv('table_3.csv')\n",
    "tables[5].df.to_csv('table_4.csv')"
   ]
  },
  {
   "cell_type": "code",
   "execution_count": null,
   "metadata": {},
   "outputs": [],
   "source": []
  }
 ],
 "metadata": {
  "kernelspec": {
   "display_name": "Python 3",
   "language": "python",
   "name": "python3"
  },
  "language_info": {
   "codemirror_mode": {
    "name": "ipython",
    "version": 3
   },
   "file_extension": ".py",
   "mimetype": "text/x-python",
   "name": "python",
   "nbconvert_exporter": "python",
   "pygments_lexer": "ipython3",
   "version": "3.6.5"
  }
 },
 "nbformat": 4,
 "nbformat_minor": 2
}
